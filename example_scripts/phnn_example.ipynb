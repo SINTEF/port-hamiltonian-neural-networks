{
 "cells": [
  {
   "cell_type": "markdown",
   "id": "decent-terror",
   "metadata": {},
   "source": [
    "# Port-Hamiltonian neural networks"
   ]
  },
  {
   "cell_type": "markdown",
   "id": "e22c6980",
   "metadata": {},
   "source": [
    "This notebook provides examples of how you can use the package `porthamiltonians` to generate data and train port-Hamiltonian neural networks to model port-Hamiltonian systems. The examples included here are the damped and forced mass-spring system and the system of tanks and pipes used in the paper [\"Port-Hamiltonian Neural Networks with State-Dependent\n",
    "Ports\"](https://arxiv.org/abs/2206.02660)."
   ]
  },
  {
   "cell_type": "code",
   "execution_count": null,
   "id": "conceptual-senator",
   "metadata": {},
   "outputs": [],
   "source": [
    "import numpy as np\n",
    "import torch\n",
    "import networkx as nx\n",
    "\n",
    "from porthamiltonians.phsystems import MassSpringDamperSystem, TankSystem, init_tanksystem\n",
    "from porthamiltonians.phsystems import init_tanksystem_leaky, init_msdsystem, initial_condition_radial\n",
    "from porthamiltonians.phnns import PortHamiltonianNN, DynamicSystemNN, load_dynamic_system_model\n",
    "from porthamiltonians.phnns import R_estimator, BaselineNN, HamiltonianNN, ExternalPortNN\n",
    "from porthamiltonians.phnns import npoints_to_ntrajectories_tsample, train, generate_dataset\n",
    "\n",
    "import matplotlib.pyplot as plt\n",
    "colors = [(0,0.4,1),(1,0.7,0.3),(0.2,0.7,0.2),(0.8,0,0.2),(0.5,0.3,.9)]\n",
    "\n",
    "ttype = torch.float32\n",
    "torch.set_default_dtype(ttype)"
   ]
  },
  {
   "cell_type": "markdown",
   "id": "d38e33c6",
   "metadata": {},
   "source": [
    "### Initializing the data, neural network models and training parameters"
   ]
  },
  {
   "cell_type": "code",
   "execution_count": null,
   "id": "5d97328e",
   "metadata": {},
   "outputs": [],
   "source": [
    "system = 'tank' # 'tank', 'msd' (Choose to train a tank or a forced mass spring damper)"
   ]
  },
  {
   "cell_type": "code",
   "execution_count": null,
   "id": "painful-desperate",
   "metadata": {},
   "outputs": [],
   "source": [
    "baseline = False # If True, train baseline model\n",
    "ntrainingpoints = 30000\n",
    "ntrajectories_val = 0\n",
    "sampling_time = 1/100\n",
    "t_max = 1. if system=='tank' else 10.\n",
    "# If true_derivatives is True, use the true derivative values for training.\n",
    "# If False, use the finite differences.\n",
    "true_derivatives = True\n",
    "if true_derivatives:\n",
    "    integrator = False\n",
    "    print('Warning: As exact derivatives are used when generating training data, '\n",
    "          '(true_derivatives = True) integrator is set to False.')\n",
    "else:\n",
    "    integrator = 'srk4'\n",
    "F_timedependent = True if system=='msd' else False # Let the neural network estimating F take time as input?\n",
    "F_statedependent = True if system=='tank' else False # Let the neural network estimating F take state as input?\n",
    "hidden_dim = 100\n",
    "learning_rate = 1e-3\n",
    "batch_size = 32\n",
    "epochs = 30\n",
    "l1_param_port = 0.\n",
    "l1_param_dissipation = 0.\n",
    "early_stopping_patience = None\n",
    "early_stopping_delta = None\n",
    "shuffle = True\n",
    "noise_std = 0.\n",
    "seed = 1\n",
    "verbose = True\n",
    "ntrajectories_train, t_sample = npoints_to_ntrajectories_tsample(ntrainingpoints, t_max, sampling_time)"
   ]
  },
  {
   "cell_type": "markdown",
   "id": "4094e50b",
   "metadata": {},
   "source": [
    "### Setting up the system"
   ]
  },
  {
   "cell_type": "code",
   "execution_count": null,
   "id": "f3557f95",
   "metadata": {},
   "outputs": [],
   "source": [
    "if system == 'tank':\n",
    "    G_s = nx.DiGraph()\n",
    "    G_s.add_edge(1, 2)\n",
    "    G_s.add_edge(2, 3)\n",
    "    G_s.add_edge(3, 4)\n",
    "    G_s.add_edge(1, 3)\n",
    "    G_s.add_edge(1, 4)\n",
    "\n",
    "    npipes = G_s.number_of_edges()\n",
    "    ntanks = G_s.number_of_nodes()\n",
    "    nstates = npipes + ntanks\n",
    "    R = 1.e-2*np.diag(np.array([3., 3., 9., 3., 3.]))\n",
    "    J = 2.e-2*np.ones(npipes)\n",
    "    A = np.ones(ntanks)\n",
    "\n",
    "    nleaks = 0\n",
    "    if nleaks == 0:\n",
    "        def F(x, t=None):\n",
    "            return np.zeros_like(x)\n",
    "    else:\n",
    "        if nleaks == 1:\n",
    "            ext_filter = np.zeros(nstates)\n",
    "            ext_filter[-1] = 3\n",
    "        else:\n",
    "            ext_filter = np.zeros(nstates)\n",
    "            ext_filter[-1] = 3\n",
    "            ext_filter[-4] = 1\n",
    "        def F(x, t=None):\n",
    "            return -1.e1*np.minimum(0.3, np.maximum(x, -0.3))*ext_filter\n",
    "\n",
    "    pH_system = TankSystem(system_graph=G_s, dissipation_pipes=R, J=J, A=A, external_port=F, controller=None)\n",
    "    # This standard setup of the tank system can be done with\n",
    "    # pH_system = init_tanksystem() or pH_system = init_tanksystem_leaky()\n",
    "    \n",
    "    damped_states = np.arange(pH_system.nstates) < pH_system.npipes\n",
    "\n",
    "elif system == 'msd':\n",
    "    f0 = 1.0\n",
    "    omega = 3\n",
    "    def F(x, t):\n",
    "        return (f0*np.sin(omega*t)).reshape(x[..., 1:].shape)*np.array([0, 1])\n",
    "    pH_system = MassSpringDamperSystem(mass=1.0, spring_constant=1.0, damping=0.3,\n",
    "                                       external_port=F, init_sampler=initial_condition_radial(1, 4.5))\n",
    "    # This standard setup of the msd system can be done with\n",
    "    # pH_system = init_msdsystem()\n",
    "    damped_states = [False, True]\n",
    "\n",
    "pH_system.seed(seed)\n",
    "nstates = pH_system.nstates"
   ]
  },
  {
   "cell_type": "markdown",
   "id": "micro-newcastle",
   "metadata": {},
   "source": [
    "### Setting up the model\n",
    "\n",
    "We can choose to either set up a PHNN model or use a baseline model that models the right hand side of the dynamic system directly without any assumptions"
   ]
  },
  {
   "cell_type": "code",
   "execution_count": null,
   "id": "allied-feelings",
   "metadata": {},
   "outputs": [],
   "source": [
    "if baseline:\n",
    "    baseline_nn = BaselineNN(nstates, hidden_dim, F_timedependent, F_statedependent)\n",
    "    model = DynamicSystemNN(nstates, baseline_nn)\n",
    "else:\n",
    "    hamiltonian_nn = HamiltonianNN(nstates, hidden_dim)\n",
    "    external_port_filter = np.zeros(nstates)\n",
    "    external_port_filter[-1] = 1 # Assuming that there is an external port only on the last state variable\n",
    "    ext_port_nn = ExternalPortNN(nstates, 1, hidden_dim=hidden_dim,\n",
    "                                 timedependent=F_timedependent,\n",
    "                                 statedependent=F_statedependent,\n",
    "                                 external_port_filter=external_port_filter)\n",
    "\n",
    "    r_est = R_estimator(damped_states)\n",
    "\n",
    "    model = PortHamiltonianNN(nstates,\n",
    "                              pH_system.structure_matrix,\n",
    "                              hamiltonian_est=hamiltonian_nn,\n",
    "                              dissipation_est=r_est,\n",
    "                              external_port_est=ext_port_nn)\n",
    "optimizer = torch.optim.Adam(model.parameters(), lr=learning_rate, weight_decay=1e-4)"
   ]
  },
  {
   "cell_type": "markdown",
   "id": "creative-adventure",
   "metadata": {},
   "source": [
    "### Generating training data"
   ]
  },
  {
   "cell_type": "code",
   "execution_count": null,
   "id": "exterior-volleyball",
   "metadata": {},
   "outputs": [],
   "source": [
    "traindata = generate_dataset(pH_system, ntrajectories_train, t_sample, true_derivatives=true_derivatives, nsamples=ntrainingpoints)\n",
    "valdata = generate_dataset(pH_system, ntrajectories_val, t_sample, true_derivatives=true_derivatives)\n"
   ]
  },
  {
   "cell_type": "markdown",
   "id": "hybrid-departure",
   "metadata": {},
   "source": [
    "### Training the model"
   ]
  },
  {
   "cell_type": "code",
   "execution_count": null,
   "id": "vietnamese-abuse",
   "metadata": {
    "scrolled": true
   },
   "outputs": [],
   "source": [
    "model, vloss = train(model, integrator, traindata, optimizer,\n",
    "                     valdata=valdata, epochs=epochs,\n",
    "                     batch_size=batch_size, shuffle=shuffle,\n",
    "                     l1_param_port=l1_param_port,\n",
    "                     l1_param_dissipation=l1_param_dissipation,\n",
    "                     loss_fn=torch.nn.MSELoss(), verbose=verbose,\n",
    "                     early_stopping_patience=early_stopping_patience,\n",
    "                     early_stopping_delta=early_stopping_delta, return_best=True)"
   ]
  },
  {
   "cell_type": "markdown",
   "id": "hearing-questionnaire",
   "metadata": {},
   "source": [
    "### Integrating the learned system and comparing to exact trajectories"
   ]
  },
  {
   "cell_type": "code",
   "execution_count": null,
   "id": "3cbfe4ca",
   "metadata": {},
   "outputs": [],
   "source": [
    "t_max = 1 if system == 'tank' else 10\n",
    "dt = 0.01\n",
    "seed = 100"
   ]
  },
  {
   "cell_type": "code",
   "execution_count": null,
   "id": "established-blame",
   "metadata": {},
   "outputs": [],
   "source": [
    "pH_system.seed(seed)\n",
    "t_sample = np.arange(0, t_max, dt)\n",
    "nsamples = t_sample.shape[0]\n",
    "\n",
    "x_exact, dxdt, _, _ = pH_system.sample_trajectory(t_sample)\n",
    "x0 = x_exact[0, :]\n",
    "x_phnn, _ = model.simulate_trajectory(integrator=False, t_sample=t_sample, x0=x0)"
   ]
  },
  {
   "cell_type": "markdown",
   "id": "093d2d88",
   "metadata": {},
   "source": [
    "#### Calculating errors:"
   ]
  },
  {
   "cell_type": "code",
   "execution_count": null,
   "id": "5435ae23",
   "metadata": {},
   "outputs": [],
   "source": [
    "if isinstance(model, PortHamiltonianNN):\n",
    "    if (not model.external_port_provided):\n",
    "        F_phnn = model.external_port(torch.tensor(x_phnn, dtype=ttype),\n",
    "                                     torch.tensor(t_sample.reshape(nsamples, 1), dtype=ttype)).detach().numpy()\n",
    "        F_exact = pH_system.external_port(x_exact, t_sample)\n",
    "        print('External port MSE:', ((F_phnn - F_exact)**2).mean())\n",
    "        print('External port MAE:', np.abs(F_phnn - F_exact).mean())\n",
    "    if (not model.dissipation_provided):\n",
    "        print('R MSE:', ((model.R(x_exact).detach().numpy() - pH_system.R(x_exact))**2).mean())\n",
    "        print('R MAE:', np.abs(model.R(x_exact).detach().numpy() - pH_system.R(x_exact)).mean())\n",
    "    if (not model.hamiltonian_provided):\n",
    "        if pH_system.H is not None:\n",
    "            hamiltonian_exact = pH_system.H(x_exact)\n",
    "            hamiltonian_phnn = model.hamiltonian(torch.tensor(x_phnn, dtype=ttype)).detach().numpy()\n",
    "            hamiltonian_exact = pH_system.H(x_exact)\n",
    "            hamiltonian_phnn = model.hamiltonian(torch.tensor(x_phnn, dtype=ttype)).detach().numpy()\n",
    "            print('H MSE:', ((hamiltonian_exact - hamiltonian_phnn)**2).mean())\n",
    "            print('H MAE:', np.abs(hamiltonian_exact - hamiltonian_phnn).mean())\n",
    "        dH_exact = pH_system.dH(x_exact)\n",
    "        dH_phnn = model.dH(torch.tensor(x_phnn, dtype=ttype)).detach().numpy()\n",
    "        if system == 'tank':\n",
    "            print('dH tanks MSE:', ((pH_system.tanklevels(dH_exact) - pH_system.tanklevels(dH_phnn))**2).mean())\n",
    "            print('dH tanks MAE:', np.abs(pH_system.tanklevels(dH_exact) - pH_system.tanklevels(dH_phnn)).mean())\n",
    "            print('dH pipes MSE:', ((pH_system.pipeflows(dH_exact) - pH_system.pipeflows(dH_phnn))**2).mean())\n",
    "            print('dH pipes MAE:', np.abs(pH_system.pipeflows(dH_exact) - pH_system.pipeflows(dH_phnn)).mean())\n",
    "        else:\n",
    "            print('dH x1 MSE:', ((dH_exact[:, 0] - dH_phnn[:, 0])**2).mean())\n",
    "            print('dH x1 MAE:', np.abs(dH_exact[:, 0] - dH_phnn[:, 0]).mean())\n",
    "            print('dH x2 MSE:', ((dH_exact[:, 1] - dH_phnn[:, 1])**2).mean())\n",
    "            print('dH x2 MAE:', np.abs(dH_exact[:, 1] - dH_phnn[:, 1]).mean())\n",
    "\n",
    "if system == 'tank':\n",
    "    print('Tanks MSE:', ((pH_system.tanklevels(x_exact) - pH_system.tanklevels(x_phnn))**2).mean())\n",
    "    print('Pipes MSE:', ((pH_system.pipeflows(x_exact) - pH_system.pipeflows(x_phnn))**2).mean())\n",
    "    print('Tanks MAE:', np.abs(pH_system.tanklevels(x_exact) - pH_system.tanklevels(x_phnn)).mean())\n",
    "    print('Pipes MAE:', np.abs(pH_system.pipeflows(x_exact) - pH_system.pipeflows(x_phnn)).mean())\n",
    "else:\n",
    "    print('x1 MSE:', ((x_exact[:, 0] - x_phnn[:, 0])**2).mean())\n",
    "    print('x1 MAE:', np.abs(x_exact[:, 0] - x_phnn[:, 0]).mean())\n",
    "    print('x2 MSE:', ((x_exact[:, 1] - x_phnn[:, 1])**2).mean())\n",
    "    print('x2 MAE:', np.abs(x_exact[:, 1] - x_phnn[:, 1]).mean())"
   ]
  },
  {
   "cell_type": "markdown",
   "id": "45f9bb03",
   "metadata": {},
   "source": [
    "#### Plotting"
   ]
  },
  {
   "cell_type": "code",
   "execution_count": null,
   "id": "5f2ad9c0",
   "metadata": {},
   "outputs": [],
   "source": [
    "if system == 'tank':\n",
    "    fig = plt.figure(figsize=(15,5))\n",
    "    for i in range(0, pH_system.ntanks):\n",
    "        plt.plot(t_sample, x_exact[:,i+pH_system.npipes], color=colors[i], linestyle='dashed', label=f'tank {i+1}, exact')\n",
    "        plt.plot(t_sample, x_phnn[:,i+pH_system.npipes], color=colors[i], label=f'tank {i+1}, PHNN')\n",
    "    plt.xlabel(\"$t$\", fontsize=14)\n",
    "    plt.ylabel(\"$\\mu$\", fontsize=14)\n",
    "    plt.legend(loc='center left', bbox_to_anchor=(1, 0.5))\n",
    "    plt.title('Tank volumes')\n",
    "    plt.show()\n",
    "elif system == 'msd':\n",
    "    fig = plt.figure(figsize=(5,5))\n",
    "    plt.plot(x_exact[:,0], x_exact[:,1], color='k', linestyle='dashed', label=f'Exact')\n",
    "    plt.plot(x_phnn[:,0], x_phnn[:,1], color=colors[0], label=f'PHNN')\n",
    "    plt.xlabel(\"$q$\", fontsize=14)\n",
    "    plt.ylabel(\"$p$\", fontsize=14)\n",
    "    plt.legend(loc='center left', bbox_to_anchor=(1, 0.5))\n",
    "    plt.title('Phase plot')\n",
    "    plt.show()\n",
    "    fig = plt.figure(figsize=(15,5))\n",
    "    plt.plot(t_sample, x_exact[:,0], color='k', linestyle='dashed', label=f'Exact')\n",
    "    plt.plot(t_sample, x_phnn[:,0], color=colors[0], label=f'PHNN')\n",
    "    plt.xlabel(\"$t$\", fontsize=14)\n",
    "    plt.ylabel(\"$q$\", fontsize=14)\n",
    "    plt.legend(loc='center left', bbox_to_anchor=(1, 0.5))\n",
    "    plt.title('Position')\n",
    "    plt.show()\n",
    "    fig = plt.figure(figsize=(15,5))\n",
    "    plt.plot(t_sample, x_exact[:,1], color='k', linestyle='dashed', label=f'Exact')\n",
    "    plt.plot(t_sample, x_phnn[:,1], color=colors[0], label=f'PHNN')\n",
    "    plt.xlabel(\"$t$\", fontsize=14)\n",
    "    plt.ylabel(\"$p$\", fontsize=14)\n",
    "    plt.legend(loc='center left', bbox_to_anchor=(1, 0.5))\n",
    "    plt.title('Momentum')\n",
    "    plt.show()"
   ]
  },
  {
   "cell_type": "code",
   "execution_count": null,
   "id": "3e7b2576",
   "metadata": {},
   "outputs": [],
   "source": [
    "if system == 'tank':\n",
    "    fig = plt.figure(figsize=(15,5))\n",
    "    for i in range(0, pH_system.ntanks):\n",
    "        plt.plot(t_sample, F_exact[:,i+pH_system.npipes], color=colors[i], linestyle='dashed', label=f'tank {i+1}, exact')\n",
    "        plt.plot(t_sample, F_phnn[:,i+pH_system.npipes], color=colors[i], label=f'tank {i+1}, PHNN')\n",
    "    plt.xlabel(\"$t$\", fontsize=14)\n",
    "    plt.ylabel(\"$F$\", fontsize=14)\n",
    "    plt.title('Externel port')\n",
    "    plt.legend()\n",
    "    plt.show()\n",
    "elif system == 'msd':\n",
    "    fig = plt.figure(figsize=(15,5))\n",
    "    plt.plot(t_sample, F_exact[:,-1], color='k', linestyle='dashed', label=f'Exact')\n",
    "    plt.plot(t_sample, F_phnn[:,-1], color=colors[0], label=f'PHNN')\n",
    "    plt.xlabel(\"$t$\", fontsize=14)\n",
    "    plt.ylabel(\"$F$\", fontsize=14)\n",
    "    plt.title('Externel port')\n",
    "    plt.legend()\n",
    "    plt.show()"
   ]
  },
  {
   "cell_type": "markdown",
   "id": "b2d24c61",
   "metadata": {},
   "source": [
    "### Comparing to baseline model"
   ]
  },
  {
   "cell_type": "code",
   "execution_count": null,
   "id": "b2513008",
   "metadata": {},
   "outputs": [],
   "source": [
    "baseline = True\n",
    "baseline_nn = BaselineNN(nstates, hidden_dim, F_timedependent, F_statedependent)\n",
    "baseline_model = DynamicSystemNN(nstates, baseline_nn)\n",
    "optimizer = torch.optim.Adam(baseline_model.parameters(), lr=learning_rate, weight_decay=1e-4)"
   ]
  },
  {
   "cell_type": "code",
   "execution_count": null,
   "id": "5887deba",
   "metadata": {},
   "outputs": [],
   "source": [
    "baseline_model, _ = train(baseline_model, integrator, traindata, optimizer, valdata=valdata, epochs=epochs,\n",
    "                  batch_size=batch_size, shuffle=shuffle, l1_param_port=l1_param_port,\n",
    "                  l1_param_dissipation=l1_param_dissipation,\n",
    "                  loss_fn=torch.nn.MSELoss(), verbose=verbose, early_stopping_patience=early_stopping_patience,\n",
    "                  early_stopping_delta=early_stopping_delta)"
   ]
  },
  {
   "cell_type": "code",
   "execution_count": null,
   "id": "bd387bfb",
   "metadata": {},
   "outputs": [],
   "source": [
    "x_baseline, _ = baseline_model.simulate_trajectory(False, t_sample, x0=x0)"
   ]
  },
  {
   "cell_type": "code",
   "execution_count": null,
   "id": "dd942ff2",
   "metadata": {},
   "outputs": [],
   "source": [
    "if system == 'tank':\n",
    "    for i in range(0, pH_system.ntanks):\n",
    "        fig = plt.figure(figsize=(15,5))\n",
    "        plt.plot(t_sample, x_exact[:,i+pH_system.npipes], color='k', linestyle='dashed', label='Exact solution')  \n",
    "        plt.plot(t_sample, x_baseline[:,i+pH_system.npipes], color=colors[1], label='Baseline NN')\n",
    "        plt.plot(t_sample, x_phnn[:,i+pH_system.npipes], color=colors[0], label='PHNN')\n",
    "        plt.xlabel(\"$t$\", fontsize=14)\n",
    "        plt.ylabel(\"$x$\", fontsize=14)\n",
    "        plt.title(f'Tank {i+1}')\n",
    "        plt.legend()\n",
    "        plt.show()\n",
    "elif system == 'msd':\n",
    "    fig = plt.figure(figsize=(5,5))\n",
    "    plt.plot(x_exact[:,0], x_exact[:,1], color='k', linestyle='dashed', label='Exact')\n",
    "    plt.plot(x_phnn[:,0], x_baseline[:,1], color=colors[1], label='Baseline')\n",
    "    plt.plot(x_phnn[:,0], x_phnn[:,1], color=colors[0], label='PHNN')\n",
    "    plt.xlabel(\"$t$\", fontsize=14)\n",
    "    plt.ylabel(\"$x$\", fontsize=14)\n",
    "    plt.legend(loc='center left', bbox_to_anchor=(1, 0.5))\n",
    "    plt.title('Phase plot')\n",
    "    plt.show()\n",
    "    fig = plt.figure(figsize=(15,5))\n",
    "    plt.plot(t_sample, x_exact[:,0], color='k', linestyle='dashed', label='Exact')\n",
    "    plt.plot(t_sample, x_baseline[:,0], color=colors[1], label='Baseline')\n",
    "    plt.plot(t_sample, x_phnn[:,0], color=colors[0], label='PHNN')\n",
    "    plt.xlabel(\"$t$\", fontsize=14)\n",
    "    plt.ylabel(\"$x$\", fontsize=14)\n",
    "    plt.legend(loc='center left', bbox_to_anchor=(1, 0.5))\n",
    "    plt.title('Position')\n",
    "    plt.show()\n",
    "    fig = plt.figure(figsize=(15,5))\n",
    "    plt.plot(t_sample, x_exact[:,1], color='k', linestyle='dashed', label='Exact')\n",
    "    plt.plot(t_sample, x_baseline[:,1], color=colors[1], label='Baseline')\n",
    "    plt.plot(t_sample, x_phnn[:,1], color=colors[0], label='PHNN')\n",
    "    plt.xlabel(\"$t$\", fontsize=14)\n",
    "    plt.ylabel(\"$x$\", fontsize=14)\n",
    "    plt.legend(loc='center left', bbox_to_anchor=(1, 0.5))\n",
    "    plt.title('Momentum')\n",
    "    plt.show()"
   ]
  },
  {
   "cell_type": "code",
   "execution_count": null,
   "id": "e4544e7e",
   "metadata": {},
   "outputs": [],
   "source": []
  },
  {
   "cell_type": "code",
   "execution_count": null,
   "id": "5512a431",
   "metadata": {},
   "outputs": [],
   "source": []
  }
 ],
 "metadata": {
  "kernelspec": {
   "display_name": "Python 3 (ipykernel)",
   "language": "python",
   "name": "python3"
  },
  "language_info": {
   "codemirror_mode": {
    "name": "ipython",
    "version": 3
   },
   "file_extension": ".py",
   "mimetype": "text/x-python",
   "name": "python",
   "nbconvert_exporter": "python",
   "pygments_lexer": "ipython3",
   "version": "3.8.13"
  }
 },
 "nbformat": 4,
 "nbformat_minor": 5
}
